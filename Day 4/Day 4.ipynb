{
 "cells": [
  {
   "cell_type": "code",
   "execution_count": 1,
   "metadata": {},
   "outputs": [],
   "source": [
    "import numpy as np\n",
    "import pandas as pd"
   ]
  },
  {
   "cell_type": "code",
   "execution_count": 2,
   "metadata": {},
   "outputs": [],
   "source": [
    "f = open('input.txt','r')"
   ]
  },
  {
   "cell_type": "code",
   "execution_count": 3,
   "metadata": {},
   "outputs": [],
   "source": [
    "entries = f.read()[:-1].split(\"\\n\\n\")"
   ]
  },
  {
   "cell_type": "code",
   "execution_count": 4,
   "metadata": {},
   "outputs": [
    {
     "data": {
      "text/plain": [
       "'byr:2010 pid:#1bb4d8 eyr:2021 hgt:186cm iyr:2020 ecl:grt'"
      ]
     },
     "execution_count": 4,
     "metadata": {},
     "output_type": "execute_result"
    }
   ],
   "source": [
    "entries[0]"
   ]
  },
  {
   "cell_type": "code",
   "execution_count": 5,
   "metadata": {
    "scrolled": true
   },
   "outputs": [
    {
     "data": {
      "text/plain": [
       "'pid:937877382 eyr:2029\\necl:amb hgt:187cm iyr:2019\\nbyr:1933 hcl:#888785'"
      ]
     },
     "execution_count": 5,
     "metadata": {},
     "output_type": "execute_result"
    }
   ],
   "source": [
    "entries[1]"
   ]
  },
  {
   "cell_type": "markdown",
   "metadata": {},
   "source": [
    "## Part 1"
   ]
  },
  {
   "cell_type": "code",
   "execution_count": 9,
   "metadata": {},
   "outputs": [],
   "source": [
    "from ast import literal_eval"
   ]
  },
  {
   "cell_type": "code",
   "execution_count": 10,
   "metadata": {},
   "outputs": [],
   "source": [
    "dictentries = entries.copy()"
   ]
  },
  {
   "cell_type": "code",
   "execution_count": 11,
   "metadata": {},
   "outputs": [],
   "source": [
    "index = 0\n",
    "for entry in entries:\n",
    "    dictentries[index] = literal_eval(\"{'\" + entry.replace('\\n',' ').replace(' ', \"', '\").replace(':',\"': '\") + \"'}\")\n",
    "    index += 1"
   ]
  },
  {
   "cell_type": "code",
   "execution_count": 12,
   "metadata": {
    "scrolled": true
   },
   "outputs": [
    {
     "data": {
      "text/plain": [
       "{'byr': '2010',\n",
       " 'pid': '#1bb4d8',\n",
       " 'eyr': '2021',\n",
       " 'hgt': '186cm',\n",
       " 'iyr': '2020',\n",
       " 'ecl': 'grt'}"
      ]
     },
     "execution_count": 12,
     "metadata": {},
     "output_type": "execute_result"
    }
   ],
   "source": [
    "dictentries[0]"
   ]
  },
  {
   "cell_type": "code",
   "execution_count": 18,
   "metadata": {},
   "outputs": [],
   "source": [
    "valids = 0"
   ]
  },
  {
   "cell_type": "code",
   "execution_count": 19,
   "metadata": {},
   "outputs": [],
   "source": [
    "for entry in dictentries:\n",
    "    if ('byr' in entry.keys()) and ('pid' in entry.keys()) and ('iyr' in entry.keys()) and ('eyr' in entry.keys()) and ('hgt' in entry.keys()) and ('hcl' in entry.keys()) and ('ecl' in entry.keys()):\n",
    "        valids += 1"
   ]
  },
  {
   "cell_type": "code",
   "execution_count": 20,
   "metadata": {},
   "outputs": [
    {
     "data": {
      "text/plain": [
       "213"
      ]
     },
     "execution_count": 20,
     "metadata": {},
     "output_type": "execute_result"
    }
   ],
   "source": [
    "valids"
   ]
  },
  {
   "cell_type": "markdown",
   "metadata": {},
   "source": [
    "## Part 2"
   ]
  },
  {
   "cell_type": "code",
   "execution_count": 24,
   "metadata": {},
   "outputs": [],
   "source": [
    "import re"
   ]
  },
  {
   "cell_type": "code",
   "execution_count": 27,
   "metadata": {},
   "outputs": [],
   "source": [
    "valids = 0"
   ]
  },
  {
   "cell_type": "code",
   "execution_count": 28,
   "metadata": {},
   "outputs": [],
   "source": [
    "for entry in dictentries:\n",
    "    if ('byr' in entry.keys()) and ('pid' in entry.keys()) and ('iyr' in entry.keys()) and ('eyr' in entry.keys()) and ('hgt' in entry.keys()) and ('hcl' in entry.keys()) and ('ecl' in entry.keys()):\n",
    "        valid = True\n",
    "        if not ((int(entry['byr']) >= 1920) and (int(entry['byr']) <= 2002)):\n",
    "            valid = False\n",
    "        if not ((int(entry['iyr']) >= 2010) and (int(entry['iyr']) <= 2020)):\n",
    "            valid = False\n",
    "        if not ((int(entry['eyr']) >= 2020) and (int(entry['eyr']) <= 2030)):\n",
    "            valid = False\n",
    "            \n",
    "        if not ((entry['hgt'][-2:] == 'in') or (entry['hgt'][-2:] == 'cm')):\n",
    "            valid = False\n",
    "        elif entry['hgt'][-2:] == 'in':\n",
    "            if not ((int(entry['hgt'][:-2]) >= 59) and (int(entry['hgt'][:-2]) <= 76)):\n",
    "                valid = False\n",
    "        elif entry['hgt'][-2:] == 'cm':\n",
    "            if not ((int(entry['hgt'][:-2]) >= 150) and (int(entry['hgt'][:-2]) <= 193)):\n",
    "                valid = False\n",
    "                \n",
    "        hairpattern = r'^#\\w{6}$'\n",
    "        if not re.match(hairpattern,entry['hcl']):\n",
    "            valid = False\n",
    "        \n",
    "        \n",
    "        eyecols = ['amb','blu','brn','gry','grn','hzl','oth']\n",
    "        if not (entry['ecl'] in eyecols):\n",
    "            valid = False\n",
    "            \n",
    "        passpattern = r'^[0-9]{9}$'\n",
    "        if not re.match(passpattern,entry['pid']):\n",
    "            valid = False\n",
    "        \n",
    "        if valid:\n",
    "            valids += 1"
   ]
  },
  {
   "cell_type": "code",
   "execution_count": 29,
   "metadata": {},
   "outputs": [
    {
     "data": {
      "text/plain": [
       "147"
      ]
     },
     "execution_count": 29,
     "metadata": {},
     "output_type": "execute_result"
    }
   ],
   "source": [
    "valids"
   ]
  }
 ],
 "metadata": {
  "kernelspec": {
   "display_name": "Python 3",
   "language": "python",
   "name": "python3"
  },
  "language_info": {
   "codemirror_mode": {
    "name": "ipython",
    "version": 3
   },
   "file_extension": ".py",
   "mimetype": "text/x-python",
   "name": "python",
   "nbconvert_exporter": "python",
   "pygments_lexer": "ipython3",
   "version": "3.7.4"
  }
 },
 "nbformat": 4,
 "nbformat_minor": 2
}
