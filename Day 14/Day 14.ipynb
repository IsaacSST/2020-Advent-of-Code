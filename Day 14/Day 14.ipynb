{
 "cells": [
  {
   "cell_type": "code",
   "execution_count": 1,
   "metadata": {},
   "outputs": [],
   "source": [
    "import numpy as np\n",
    "import pandas as pd"
   ]
  },
  {
   "cell_type": "code",
   "execution_count": 41,
   "metadata": {},
   "outputs": [],
   "source": [
    "f = open('input.txt','r')"
   ]
  },
  {
   "cell_type": "code",
   "execution_count": 42,
   "metadata": {},
   "outputs": [],
   "source": [
    "instructions = f.read().split('\\n')"
   ]
  },
  {
   "cell_type": "code",
   "execution_count": 43,
   "metadata": {},
   "outputs": [],
   "source": [
    "instructions = instructions[:-1]"
   ]
  },
  {
   "cell_type": "code",
   "execution_count": 72,
   "metadata": {},
   "outputs": [],
   "source": [
    "memorydict = dict()"
   ]
  },
  {
   "cell_type": "code",
   "execution_count": 73,
   "metadata": {},
   "outputs": [],
   "source": [
    "for line in instructions:\n",
    "    this = line.split(' = ')\n",
    "    if this[0] == 'mask':\n",
    "        mask = this[1]\n",
    "    else:\n",
    "        num = int(this[1])\n",
    "        address = this[0][4:-1]\n",
    "        \n",
    "        numbinary = list(bin(num)[2:].zfill(36))\n",
    "        \n",
    "        \n",
    "        for i in range(0,36):\n",
    "            if mask[i] != 'X':\n",
    "                numbinary[i] = mask[i]\n",
    "                \n",
    "        memorydict[address] = int(''.join(numbinary),2)"
   ]
  },
  {
   "cell_type": "code",
   "execution_count": 76,
   "metadata": {},
   "outputs": [
    {
     "data": {
      "text/plain": [
       "12512013221615"
      ]
     },
     "execution_count": 76,
     "metadata": {},
     "output_type": "execute_result"
    }
   ],
   "source": [
    "ans = sum(memorydict.values())\n",
    "ans"
   ]
  },
  {
   "cell_type": "markdown",
   "metadata": {},
   "source": [
    "## Part 2"
   ]
  },
  {
   "cell_type": "code",
   "execution_count": 79,
   "metadata": {},
   "outputs": [],
   "source": [
    "memorydict2 = dict()"
   ]
  },
  {
   "cell_type": "code",
   "execution_count": 80,
   "metadata": {},
   "outputs": [],
   "source": [
    "for line in instructions:\n",
    "    this = line.split(' = ')\n",
    "    if this[0] == 'mask':\n",
    "        mask = this[1]\n",
    "    else:\n",
    "        num = int(this[1])\n",
    "        address = this[0][4:-1]\n",
    "        \n",
    "        addbinary = list(bin(int(address))[2:].zfill(36))\n",
    "        \n",
    "        \n",
    "        numXs = 0\n",
    "        Xindexes = []\n",
    "        for i in range(0,36):\n",
    "            if mask[i] == '1':\n",
    "                addbinary[i] = mask[i]\n",
    "            elif mask[i] == 'X':\n",
    "                numXs += 1\n",
    "                Xindexes.append(i)\n",
    "                \n",
    "        for j in range(0,2**numXs):\n",
    "            thisbinary = addbinary.copy()\n",
    "            thisXs = bin(j)[2:].zfill(numXs)\n",
    "            for k in range(0,numXs):\n",
    "                thisbinary[Xindexes[k]] = thisXs[k]\n",
    "                \n",
    "            memorydict2[int(''.join(thisbinary),2)] = num\n",
    "                \n",
    "                \n",
    "        "
   ]
  },
  {
   "cell_type": "code",
   "execution_count": 81,
   "metadata": {},
   "outputs": [
    {
     "data": {
      "text/plain": [
       "3905642473893"
      ]
     },
     "execution_count": 81,
     "metadata": {},
     "output_type": "execute_result"
    }
   ],
   "source": [
    "sum(memorydict2.values())"
   ]
  }
 ],
 "metadata": {
  "kernelspec": {
   "display_name": "Python 3",
   "language": "python",
   "name": "python3"
  },
  "language_info": {
   "codemirror_mode": {
    "name": "ipython",
    "version": 3
   },
   "file_extension": ".py",
   "mimetype": "text/x-python",
   "name": "python",
   "nbconvert_exporter": "python",
   "pygments_lexer": "ipython3",
   "version": "3.7.4"
  }
 },
 "nbformat": 4,
 "nbformat_minor": 2
}
