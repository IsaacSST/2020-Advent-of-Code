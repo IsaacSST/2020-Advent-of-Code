{
 "cells": [
  {
   "cell_type": "code",
   "execution_count": 1,
   "metadata": {},
   "outputs": [],
   "source": [
    "import numpy as np"
   ]
  },
  {
   "cell_type": "code",
   "execution_count": 2,
   "metadata": {},
   "outputs": [],
   "source": [
    "f = open('input.txt','r')"
   ]
  },
  {
   "cell_type": "code",
   "execution_count": 3,
   "metadata": {},
   "outputs": [],
   "source": [
    "lines = f.read().split()"
   ]
  },
  {
   "cell_type": "code",
   "execution_count": 31,
   "metadata": {},
   "outputs": [],
   "source": [
    "pocket = np.zeros(shape = (len(lines) + 12,len(lines[0]) + 12, 13),dtype = np.uint8)"
   ]
  },
  {
   "cell_type": "code",
   "execution_count": 32,
   "metadata": {},
   "outputs": [],
   "source": [
    "for i in range(0,len(lines)):\n",
    "    for j in range(0,len(lines[0])):\n",
    "        if lines[i][j] == '#':\n",
    "            pocket[i+6][j+6][6] = 1"
   ]
  },
  {
   "cell_type": "code",
   "execution_count": 14,
   "metadata": {},
   "outputs": [],
   "source": [
    "def update(grid):\n",
    "    newgrid = grid.copy()\n",
    "    for i in range(0,grid.shape[0]):\n",
    "        for j in range(0,grid.shape[1]):\n",
    "            for k in range(0,grid.shape[2]):\n",
    "                count = 0\n",
    "                for i2 in [-1,0,1]:\n",
    "                    for j2 in [-1,0,1]:\n",
    "                        for k2 in [-1,0,1]:\n",
    "                            if not (i2 == 0 and j2 == 0 and k2 == 0):\n",
    "                                if i+i2 >= 0 and j+j2 >= 0 and k+k2 >=0 and i+i2 < grid.shape[0] and j+j2 < grid.shape[1] and k+k2 < grid.shape[2]:\n",
    "                                    if grid[i + i2][j + j2][k + k2] == 1:\n",
    "                                        count += 1\n",
    "                                    \n",
    "                if grid[i][j][k] == 1 and not (count == 2 or count == 3):\n",
    "                    newgrid[i][j][k] = 0\n",
    "                elif grid[i][j][k] == 0 and count == 3:\n",
    "                    newgrid[i][j][k] = 1\n",
    "    \n",
    "    return newgrid"
   ]
  },
  {
   "cell_type": "code",
   "execution_count": 33,
   "metadata": {},
   "outputs": [],
   "source": [
    "thisgrid = pocket.copy()"
   ]
  },
  {
   "cell_type": "code",
   "execution_count": 34,
   "metadata": {},
   "outputs": [],
   "source": [
    "for i in range(0,6):\n",
    "    nextgrid = update(thisgrid)\n",
    "    thisgrid = nextgrid.copy()"
   ]
  },
  {
   "cell_type": "code",
   "execution_count": 35,
   "metadata": {},
   "outputs": [
    {
     "data": {
      "text/plain": [
       "295"
      ]
     },
     "execution_count": 35,
     "metadata": {},
     "output_type": "execute_result"
    }
   ],
   "source": [
    "ans = nextgrid.sum()\n",
    "ans"
   ]
  },
  {
   "cell_type": "markdown",
   "metadata": {},
   "source": [
    "## Part 2"
   ]
  },
  {
   "cell_type": "code",
   "execution_count": 36,
   "metadata": {},
   "outputs": [],
   "source": [
    "pocket = np.zeros(shape = (len(lines) + 12,len(lines[0]) + 12, 13,13),dtype = np.uint8)"
   ]
  },
  {
   "cell_type": "code",
   "execution_count": 37,
   "metadata": {},
   "outputs": [],
   "source": [
    "for i in range(0,len(lines)):\n",
    "    for j in range(0,len(lines[0])):\n",
    "        if lines[i][j] == '#':\n",
    "            pocket[i+6][j+6][6][6] = 1"
   ]
  },
  {
   "cell_type": "code",
   "execution_count": 38,
   "metadata": {},
   "outputs": [],
   "source": [
    "def update2(grid):\n",
    "    newgrid = grid.copy()\n",
    "    for i in range(0,grid.shape[0]):\n",
    "        for j in range(0,grid.shape[1]):\n",
    "            for k in range(0,grid.shape[2]):\n",
    "                for l in range(0,grid.shape[3]):\n",
    "                    count = 0\n",
    "                    for i2 in [-1,0,1]:\n",
    "                        for j2 in [-1,0,1]:\n",
    "                            for k2 in [-1,0,1]:\n",
    "                                for l2 in [-1,0,1]:\n",
    "                                    if not (i2 == 0 and j2 == 0 and k2 == 0 and l2 == 0):\n",
    "                                        if i+i2 >= 0 and j+j2 >= 0 and k+k2 >=0 and l+l2 >= 0 and i+i2 < grid.shape[0] and j+j2 < grid.shape[1] and k+k2 < grid.shape[2] and l+l2 < grid.shape[3]:\n",
    "                                            if grid[i + i2][j + j2][k + k2][l + l2] == 1:\n",
    "                                                count += 1\n",
    "                                    \n",
    "                    if grid[i][j][k][l] == 1 and not (count == 2 or count == 3):\n",
    "                        newgrid[i][j][k][l] = 0\n",
    "                    elif grid[i][j][k][l] == 0 and count == 3:\n",
    "                        newgrid[i][j][k][l] = 1\n",
    "    \n",
    "    return newgrid"
   ]
  },
  {
   "cell_type": "code",
   "execution_count": 39,
   "metadata": {},
   "outputs": [],
   "source": [
    "thisgrid = pocket.copy()"
   ]
  },
  {
   "cell_type": "code",
   "execution_count": 40,
   "metadata": {},
   "outputs": [],
   "source": [
    "for i in range(0,6):\n",
    "    nextgrid = update2(thisgrid)\n",
    "    thisgrid = nextgrid.copy()"
   ]
  },
  {
   "cell_type": "code",
   "execution_count": 41,
   "metadata": {},
   "outputs": [
    {
     "data": {
      "text/plain": [
       "1972"
      ]
     },
     "execution_count": 41,
     "metadata": {},
     "output_type": "execute_result"
    }
   ],
   "source": [
    "ans = nextgrid.sum()\n",
    "ans"
   ]
  },
  {
   "cell_type": "code",
   "execution_count": null,
   "metadata": {},
   "outputs": [],
   "source": []
  }
 ],
 "metadata": {
  "kernelspec": {
   "display_name": "Python 3",
   "language": "python",
   "name": "python3"
  },
  "language_info": {
   "codemirror_mode": {
    "name": "ipython",
    "version": 3
   },
   "file_extension": ".py",
   "mimetype": "text/x-python",
   "name": "python",
   "nbconvert_exporter": "python",
   "pygments_lexer": "ipython3",
   "version": "3.7.4"
  }
 },
 "nbformat": 4,
 "nbformat_minor": 2
}
