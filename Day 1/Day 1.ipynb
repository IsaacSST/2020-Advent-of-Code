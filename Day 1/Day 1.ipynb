{
 "cells": [
  {
   "cell_type": "code",
   "execution_count": 49,
   "metadata": {},
   "outputs": [],
   "source": [
    "import numpy as np\n",
    "import pandas as pd"
   ]
  },
  {
   "cell_type": "code",
   "execution_count": 50,
   "metadata": {},
   "outputs": [],
   "source": [
    "f = open(\"input.txt\",'r')"
   ]
  },
  {
   "cell_type": "code",
   "execution_count": 51,
   "metadata": {},
   "outputs": [],
   "source": [
    "arr = []\n",
    "\n",
    "    "
   ]
  },
  {
   "cell_type": "code",
   "execution_count": 52,
   "metadata": {},
   "outputs": [],
   "source": [
    "for num in f:\n",
    "    arr.append(num)"
   ]
  },
  {
   "cell_type": "code",
   "execution_count": 53,
   "metadata": {},
   "outputs": [],
   "source": [
    "f.close()"
   ]
  },
  {
   "cell_type": "code",
   "execution_count": 54,
   "metadata": {},
   "outputs": [
    {
     "data": {
      "text/plain": [
       "['1993\\n',\n",
       " '1715\\n',\n",
       " '1997\\n',\n",
       " '1666\\n',\n",
       " '1676\\n',\n",
       " '1830\\n',\n",
       " '1203\\n',\n",
       " '1800\\n',\n",
       " '1125\\n',\n",
       " '1191\\n',\n",
       " '1902\\n',\n",
       " '1972\\n',\n",
       " '1471\\n',\n",
       " '1137\\n',\n",
       " '2003\\n',\n",
       " '1250\\n',\n",
       " '1548\\n',\n",
       " '1070\\n',\n",
       " '1152\\n',\n",
       " '2004\\n',\n",
       " '1127\\n',\n",
       " '1111\\n',\n",
       " '1898\\n',\n",
       " '1848\\n',\n",
       " '1934\\n',\n",
       " '1236\\n',\n",
       " '1704\\n',\n",
       " '1950\\n',\n",
       " '1387\\n',\n",
       " '1713\\n',\n",
       " '1214\\n',\n",
       " '1266\\n',\n",
       " '1114\\n',\n",
       " '1089\\n',\n",
       " '1677\\n',\n",
       " '1207\\n',\n",
       " '1341\\n',\n",
       " '1689\\n',\n",
       " '1772\\n',\n",
       " '1901\\n',\n",
       " '1932\\n',\n",
       " '1645\\n',\n",
       " '1285\\n',\n",
       " '1884\\n',\n",
       " '883\\n',\n",
       " '1291\\n',\n",
       " '1543\\n',\n",
       " '1455\\n',\n",
       " '1213\\n',\n",
       " '1088\\n',\n",
       " '1784\\n',\n",
       " '1506\\n',\n",
       " '1879\\n',\n",
       " '1811\\n',\n",
       " '1880\\n',\n",
       " '994\\n',\n",
       " '1021\\n',\n",
       " '1585\\n',\n",
       " '1662\\n',\n",
       " '1683\\n',\n",
       " '1071\\n',\n",
       " '1643\\n',\n",
       " '1754\\n',\n",
       " '1389\\n',\n",
       " '1124\\n',\n",
       " '1820\\n',\n",
       " '1168\\n',\n",
       " '1875\\n',\n",
       " '1017\\n',\n",
       " '1180\\n',\n",
       " '1375\\n',\n",
       " '1359\\n',\n",
       " '1311\\n',\n",
       " '1357\\n',\n",
       " '1501\\n',\n",
       " '1719\\n',\n",
       " '1584\\n',\n",
       " '1609\\n',\n",
       " '1977\\n',\n",
       " '1786\\n',\n",
       " '1232\\n',\n",
       " '1263\\n',\n",
       " '1748\\n',\n",
       " '1664\\n',\n",
       " '1693\\n',\n",
       " '1766\\n',\n",
       " '1598\\n',\n",
       " '1053\\n',\n",
       " '1277\\n',\n",
       " '1466\\n',\n",
       " '1877\\n',\n",
       " '1844\\n',\n",
       " '1829\\n',\n",
       " '1165\\n',\n",
       " '1606\\n',\n",
       " '1298\\n',\n",
       " '1963\\n',\n",
       " '1873\\n',\n",
       " '1911\\n',\n",
       " '1729\\n',\n",
       " '1418\\n',\n",
       " '1372\\n',\n",
       " '1777\\n',\n",
       " '1371\\n',\n",
       " '1588\\n',\n",
       " '1329\\n',\n",
       " '1029\\n',\n",
       " '1931\\n',\n",
       " '1115\\n',\n",
       " '1810\\n',\n",
       " '1595\\n',\n",
       " '1237\\n',\n",
       " '1282\\n',\n",
       " '1838\\n',\n",
       " '1642\\n',\n",
       " '1937\\n',\n",
       " '1343\\n',\n",
       " '1578\\n',\n",
       " '1425\\n',\n",
       " '1814\\n',\n",
       " '1690\\n',\n",
       " '1129\\n',\n",
       " '1321\\n',\n",
       " '1174\\n',\n",
       " '1863\\n',\n",
       " '1405\\n',\n",
       " '1066\\n',\n",
       " '1220\\n',\n",
       " '1780\\n',\n",
       " '1410\\n',\n",
       " '1156\\n',\n",
       " '1991\\n',\n",
       " '1568\\n',\n",
       " '1368\\n',\n",
       " '99\\n',\n",
       " '1750\\n',\n",
       " '1280\\n',\n",
       " '1400\\n',\n",
       " '1601\\n',\n",
       " '1804\\n',\n",
       " '1363\\n',\n",
       " '1613\\n',\n",
       " '1252\\n',\n",
       " '1434\\n',\n",
       " '1094\\n',\n",
       " '1867\\n',\n",
       " '1542\\n',\n",
       " '1093\\n',\n",
       " '1926\\n',\n",
       " '1251\\n',\n",
       " '1348\\n',\n",
       " '689\\n',\n",
       " '1441\\n',\n",
       " '1913\\n',\n",
       " '1969\\n',\n",
       " '1409\\n',\n",
       " '1201\\n',\n",
       " '1459\\n',\n",
       " '1110\\n',\n",
       " '1452\\n',\n",
       " '1051\\n',\n",
       " '1860\\n',\n",
       " '1346\\n',\n",
       " '1537\\n',\n",
       " '1060\\n',\n",
       " '1182\\n',\n",
       " '1386\\n',\n",
       " '1141\\n',\n",
       " '1184\\n',\n",
       " '1989\\n',\n",
       " '1852\\n',\n",
       " '1097\\n',\n",
       " '1135\\n',\n",
       " '1078\\n',\n",
       " '1587\\n',\n",
       " '1984\\n',\n",
       " '1970\\n',\n",
       " '1259\\n',\n",
       " '1281\\n',\n",
       " '1092\\n',\n",
       " '1294\\n',\n",
       " '1233\\n',\n",
       " '1186\\n',\n",
       " '1555\\n',\n",
       " '1755\\n',\n",
       " '1886\\n',\n",
       " '1030\\n',\n",
       " '1706\\n',\n",
       " '1313\\n',\n",
       " '1481\\n',\n",
       " '1998\\n',\n",
       " '1181\\n',\n",
       " '1244\\n',\n",
       " '1269\\n',\n",
       " '1684\\n',\n",
       " '1798\\n',\n",
       " '1023\\n',\n",
       " '1960\\n',\n",
       " '1050\\n',\n",
       " '1293\\n']"
      ]
     },
     "execution_count": 54,
     "metadata": {},
     "output_type": "execute_result"
    }
   ],
   "source": [
    "arr"
   ]
  },
  {
   "cell_type": "code",
   "execution_count": 55,
   "metadata": {},
   "outputs": [
    {
     "data": {
      "text/plain": [
       "0      1993\\n\n",
       "1      1715\\n\n",
       "2      1997\\n\n",
       "3      1666\\n\n",
       "4      1676\\n\n",
       "        ...  \n",
       "195    1798\\n\n",
       "196    1023\\n\n",
       "197    1960\\n\n",
       "198    1050\\n\n",
       "199    1293\\n\n",
       "Length: 200, dtype: object"
      ]
     },
     "execution_count": 55,
     "metadata": {},
     "output_type": "execute_result"
    }
   ],
   "source": [
    "s = pd.Series(arr)\n",
    "s"
   ]
  },
  {
   "cell_type": "code",
   "execution_count": 56,
   "metadata": {},
   "outputs": [],
   "source": [
    "def cleandata(number):\n",
    "    return int(number[:-1])\n",
    "    "
   ]
  },
  {
   "cell_type": "code",
   "execution_count": 57,
   "metadata": {},
   "outputs": [],
   "source": [
    "s = s.map(cleandata)"
   ]
  },
  {
   "cell_type": "code",
   "execution_count": 58,
   "metadata": {},
   "outputs": [
    {
     "data": {
      "text/plain": [
       "0      1993\n",
       "1      1715\n",
       "2      1997\n",
       "3      1666\n",
       "4      1676\n",
       "       ... \n",
       "195    1798\n",
       "196    1023\n",
       "197    1960\n",
       "198    1050\n",
       "199    1293\n",
       "Length: 200, dtype: int64"
      ]
     },
     "execution_count": 58,
     "metadata": {},
     "output_type": "execute_result"
    }
   ],
   "source": [
    "s"
   ]
  },
  {
   "cell_type": "code",
   "execution_count": 59,
   "metadata": {},
   "outputs": [
    {
     "data": {
      "text/plain": [
       "134      99\n",
       "151     689\n",
       "44      883\n",
       "55      994\n",
       "68     1017\n",
       "       ... \n",
       "0      1993\n",
       "2      1997\n",
       "190    1998\n",
       "14     2003\n",
       "19     2004\n",
       "Length: 200, dtype: int64"
      ]
     },
     "execution_count": 59,
     "metadata": {},
     "output_type": "execute_result"
    }
   ],
   "source": [
    "s = s.sort_values()\n",
    "s"
   ]
  },
  {
   "cell_type": "code",
   "execution_count": 60,
   "metadata": {},
   "outputs": [],
   "source": [
    "s = s.reset_index(drop = True)\n"
   ]
  },
  {
   "cell_type": "code",
   "execution_count": 69,
   "metadata": {
    "scrolled": true
   },
   "outputs": [],
   "source": [
    "def findans(data):\n",
    "    ans = 0\n",
    "    found = False\n",
    "    for i in range(0,200):\n",
    "        for j in range(i+1,200):\n",
    "            if ((data[i] + data[j]) == 2020):\n",
    "                return (data[i]*data[j],i,j)\n",
    "                \n",
    "                \n"
   ]
  },
  {
   "cell_type": "code",
   "execution_count": 70,
   "metadata": {},
   "outputs": [],
   "source": [
    "out = findans(s)"
   ]
  },
  {
   "cell_type": "code",
   "execution_count": 71,
   "metadata": {},
   "outputs": [
    {
     "data": {
      "text/plain": [
       "(1003971, 2, 32)"
      ]
     },
     "execution_count": 71,
     "metadata": {},
     "output_type": "execute_result"
    }
   ],
   "source": [
    "out"
   ]
  },
  {
   "cell_type": "code",
   "execution_count": 72,
   "metadata": {},
   "outputs": [
    {
     "data": {
      "text/plain": [
       "(883, 1137)"
      ]
     },
     "execution_count": 72,
     "metadata": {},
     "output_type": "execute_result"
    }
   ],
   "source": [
    "(s[2],s[32])"
   ]
  },
  {
   "cell_type": "markdown",
   "metadata": {},
   "source": [
    "## Part 2:"
   ]
  },
  {
   "cell_type": "code",
   "execution_count": 73,
   "metadata": {},
   "outputs": [
    {
     "data": {
      "text/plain": [
       "0        99\n",
       "1       689\n",
       "2       883\n",
       "3       994\n",
       "4      1017\n",
       "       ... \n",
       "195    1993\n",
       "196    1997\n",
       "197    1998\n",
       "198    2003\n",
       "199    2004\n",
       "Length: 200, dtype: int64"
      ]
     },
     "execution_count": 73,
     "metadata": {},
     "output_type": "execute_result"
    }
   ],
   "source": [
    "s"
   ]
  },
  {
   "cell_type": "code",
   "execution_count": 76,
   "metadata": {},
   "outputs": [
    {
     "data": {
      "text/plain": [
       "0       99\n",
       "1      689\n",
       "2      883\n",
       "3      994\n",
       "4     1017\n",
       "5     1021\n",
       "6     1023\n",
       "7     1029\n",
       "8     1030\n",
       "9     1050\n",
       "10    1051\n",
       "11    1053\n",
       "12    1060\n",
       "13    1066\n",
       "14    1070\n",
       "15    1071\n",
       "16    1078\n",
       "17    1088\n",
       "18    1089\n",
       "19    1092\n",
       "dtype: int64"
      ]
     },
     "execution_count": 76,
     "metadata": {},
     "output_type": "execute_result"
    }
   ],
   "source": [
    "s[0:20]"
   ]
  },
  {
   "cell_type": "code",
   "execution_count": 93,
   "metadata": {},
   "outputs": [],
   "source": [
    "def findans2(data):\n",
    "    for i in range(0,200):\n",
    "        for j in range(i+1,200):\n",
    "            for k in range(j+1,200):\n",
    "                if (data[i] + data[j] + data[k] == 2020):\n",
    "                    return (data[i]*data[j]*data[k],i,j,k)"
   ]
  },
  {
   "cell_type": "code",
   "execution_count": 94,
   "metadata": {},
   "outputs": [],
   "source": [
    "out = findans2(s)"
   ]
  },
  {
   "cell_type": "code",
   "execution_count": 95,
   "metadata": {},
   "outputs": [
    {
     "data": {
      "text/plain": [
       "(84035952, 0, 1, 51)"
      ]
     },
     "execution_count": 95,
     "metadata": {},
     "output_type": "execute_result"
    }
   ],
   "source": [
    "out"
   ]
  },
  {
   "cell_type": "code",
   "execution_count": 96,
   "metadata": {},
   "outputs": [
    {
     "data": {
      "text/plain": [
       "(99, 689, 1232)"
      ]
     },
     "execution_count": 96,
     "metadata": {},
     "output_type": "execute_result"
    }
   ],
   "source": [
    "(s[0],s[1],s[51])"
   ]
  },
  {
   "cell_type": "code",
   "execution_count": 97,
   "metadata": {},
   "outputs": [
    {
     "data": {
      "text/plain": [
       "2020"
      ]
     },
     "execution_count": 97,
     "metadata": {},
     "output_type": "execute_result"
    }
   ],
   "source": [
    "99 + 689 + 1232"
   ]
  },
  {
   "cell_type": "code",
   "execution_count": 98,
   "metadata": {},
   "outputs": [
    {
     "data": {
      "text/plain": [
       "84035952"
      ]
     },
     "execution_count": 98,
     "metadata": {},
     "output_type": "execute_result"
    }
   ],
   "source": [
    "99*689*1232"
   ]
  },
  {
   "cell_type": "code",
   "execution_count": null,
   "metadata": {},
   "outputs": [],
   "source": []
  }
 ],
 "metadata": {
  "kernelspec": {
   "display_name": "Python 3",
   "language": "python",
   "name": "python3"
  },
  "language_info": {
   "codemirror_mode": {
    "name": "ipython",
    "version": 3
   },
   "file_extension": ".py",
   "mimetype": "text/x-python",
   "name": "python",
   "nbconvert_exporter": "python",
   "pygments_lexer": "ipython3",
   "version": "3.7.4"
  }
 },
 "nbformat": 4,
 "nbformat_minor": 2
}
